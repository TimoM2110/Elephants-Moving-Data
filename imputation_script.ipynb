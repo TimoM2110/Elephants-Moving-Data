{
 "cells": [
  {
   "cell_type": "code",
   "execution_count": 1,
   "id": "467c8f15",
   "metadata": {},
   "outputs": [
    {
     "name": "stdout",
     "output_type": "stream",
     "text": [
      "Requirement already satisfied: traces in c:\\users\\timom\\anaconda3\\lib\\site-packages (0.6.0)\n",
      "Requirement already satisfied: infinity in c:\\users\\timom\\anaconda3\\lib\\site-packages (from traces) (1.5)\n",
      "Requirement already satisfied: python-dateutil in c:\\users\\timom\\anaconda3\\lib\\site-packages (from traces) (2.8.2)\n",
      "Requirement already satisfied: sortedcontainers in c:\\users\\timom\\anaconda3\\lib\\site-packages (from traces) (2.4.0)\n",
      "Requirement already satisfied: six>=1.5 in c:\\users\\timom\\anaconda3\\lib\\site-packages (from python-dateutil->traces) (1.16.0)\n"
     ]
    }
   ],
   "source": [
    "import sys\n",
    "!{sys.executable} -m pip install traces"
   ]
  },
  {
   "cell_type": "code",
   "execution_count": 2,
   "id": "75fd5301",
   "metadata": {},
   "outputs": [],
   "source": [
    "import pandas as pd\n",
    "import numpy as np\n",
    "import traces\n",
    "from datetime import datetime"
   ]
  },
  {
   "cell_type": "code",
   "execution_count": 3,
   "id": "7f4cfdb9",
   "metadata": {},
   "outputs": [],
   "source": [
    "time_series = traces.TimeSeries()"
   ]
  },
  {
   "cell_type": "code",
   "execution_count": 4,
   "id": "f14be4c0",
   "metadata": {},
   "outputs": [
    {
     "data": {
      "text/plain": [
       "array(['AM105', 'AM107', 'AM108', 'AM110', 'AM239', 'AM253', 'AM254',\n",
       "       'AM255', 'AM306', 'AM307', 'AM308', 'AM91', 'AM93', 'AM99'],\n",
       "      dtype=object)"
      ]
     },
     "execution_count": 4,
     "metadata": {},
     "output_type": "execute_result"
    }
   ],
   "source": [
    "df = pd.read_csv(\"ThermochronTracking Elephants Kruger 2007.csv\")\n",
    "df['timestamp'] = pd.to_datetime(df['timestamp'],errors='ignore')\n",
    "np.unique(df[['tag-local-identifier']].values)"
   ]
  },
  {
   "cell_type": "code",
   "execution_count": 6,
   "id": "ee4ed7f3",
   "metadata": {},
   "outputs": [
    {
     "data": {
      "text/html": [
       "<div>\n",
       "<style scoped>\n",
       "    .dataframe tbody tr th:only-of-type {\n",
       "        vertical-align: middle;\n",
       "    }\n",
       "\n",
       "    .dataframe tbody tr th {\n",
       "        vertical-align: top;\n",
       "    }\n",
       "\n",
       "    .dataframe thead th {\n",
       "        text-align: right;\n",
       "    }\n",
       "</style>\n",
       "<table border=\"1\" class=\"dataframe\">\n",
       "  <thead>\n",
       "    <tr style=\"text-align: right;\">\n",
       "      <th></th>\n",
       "      <th>event-id</th>\n",
       "      <th>visible</th>\n",
       "      <th>timestamp</th>\n",
       "      <th>location-long</th>\n",
       "      <th>location-lat</th>\n",
       "      <th>external-temperature</th>\n",
       "      <th>sensor-type</th>\n",
       "      <th>individual-taxon-canonical-name</th>\n",
       "      <th>tag-local-identifier</th>\n",
       "      <th>individual-local-identifier</th>\n",
       "      <th>study-name</th>\n",
       "    </tr>\n",
       "  </thead>\n",
       "  <tbody>\n",
       "    <tr>\n",
       "      <th>0</th>\n",
       "      <td>9421351127</td>\n",
       "      <td>True</td>\n",
       "      <td>2007-08-13 00:30:00</td>\n",
       "      <td>31.87091</td>\n",
       "      <td>-24.81373</td>\n",
       "      <td>24.0</td>\n",
       "      <td>gps</td>\n",
       "      <td>Loxodonta africana</td>\n",
       "      <td>AM105</td>\n",
       "      <td>AM105</td>\n",
       "      <td>ThermochronTracking Elephants Kruger 2007</td>\n",
       "    </tr>\n",
       "    <tr>\n",
       "      <th>1</th>\n",
       "      <td>9421351128</td>\n",
       "      <td>True</td>\n",
       "      <td>2007-08-13 02:00:00</td>\n",
       "      <td>31.87399</td>\n",
       "      <td>-24.81483</td>\n",
       "      <td>23.0</td>\n",
       "      <td>gps</td>\n",
       "      <td>Loxodonta africana</td>\n",
       "      <td>AM105</td>\n",
       "      <td>AM105</td>\n",
       "      <td>ThermochronTracking Elephants Kruger 2007</td>\n",
       "    </tr>\n",
       "    <tr>\n",
       "      <th>2</th>\n",
       "      <td>9421351129</td>\n",
       "      <td>True</td>\n",
       "      <td>2007-08-13 03:31:00</td>\n",
       "      <td>31.87724</td>\n",
       "      <td>-24.81673</td>\n",
       "      <td>21.0</td>\n",
       "      <td>gps</td>\n",
       "      <td>Loxodonta africana</td>\n",
       "      <td>AM105</td>\n",
       "      <td>AM105</td>\n",
       "      <td>ThermochronTracking Elephants Kruger 2007</td>\n",
       "    </tr>\n",
       "    <tr>\n",
       "      <th>3</th>\n",
       "      <td>9421351130</td>\n",
       "      <td>True</td>\n",
       "      <td>2007-08-13 04:00:00</td>\n",
       "      <td>31.87822</td>\n",
       "      <td>-24.81569</td>\n",
       "      <td>21.0</td>\n",
       "      <td>gps</td>\n",
       "      <td>Loxodonta africana</td>\n",
       "      <td>AM105</td>\n",
       "      <td>AM105</td>\n",
       "      <td>ThermochronTracking Elephants Kruger 2007</td>\n",
       "    </tr>\n",
       "    <tr>\n",
       "      <th>4</th>\n",
       "      <td>9421351131</td>\n",
       "      <td>True</td>\n",
       "      <td>2007-08-13 06:00:00</td>\n",
       "      <td>31.89554</td>\n",
       "      <td>-24.79870</td>\n",
       "      <td>22.0</td>\n",
       "      <td>gps</td>\n",
       "      <td>Loxodonta africana</td>\n",
       "      <td>AM105</td>\n",
       "      <td>AM105</td>\n",
       "      <td>ThermochronTracking Elephants Kruger 2007</td>\n",
       "    </tr>\n",
       "  </tbody>\n",
       "</table>\n",
       "</div>"
      ],
      "text/plain": [
       "     event-id  visible           timestamp  location-long  location-lat  \\\n",
       "0  9421351127     True 2007-08-13 00:30:00       31.87091     -24.81373   \n",
       "1  9421351128     True 2007-08-13 02:00:00       31.87399     -24.81483   \n",
       "2  9421351129     True 2007-08-13 03:31:00       31.87724     -24.81673   \n",
       "3  9421351130     True 2007-08-13 04:00:00       31.87822     -24.81569   \n",
       "4  9421351131     True 2007-08-13 06:00:00       31.89554     -24.79870   \n",
       "\n",
       "   external-temperature sensor-type individual-taxon-canonical-name  \\\n",
       "0                  24.0         gps              Loxodonta africana   \n",
       "1                  23.0         gps              Loxodonta africana   \n",
       "2                  21.0         gps              Loxodonta africana   \n",
       "3                  21.0         gps              Loxodonta africana   \n",
       "4                  22.0         gps              Loxodonta africana   \n",
       "\n",
       "  tag-local-identifier individual-local-identifier  \\\n",
       "0                AM105                       AM105   \n",
       "1                AM105                       AM105   \n",
       "2                AM105                       AM105   \n",
       "3                AM105                       AM105   \n",
       "4                AM105                       AM105   \n",
       "\n",
       "                                  study-name  \n",
       "0  ThermochronTracking Elephants Kruger 2007  \n",
       "1  ThermochronTracking Elephants Kruger 2007  \n",
       "2  ThermochronTracking Elephants Kruger 2007  \n",
       "3  ThermochronTracking Elephants Kruger 2007  \n",
       "4  ThermochronTracking Elephants Kruger 2007  "
      ]
     },
     "execution_count": 6,
     "metadata": {},
     "output_type": "execute_result"
    }
   ],
   "source": [
    "df.head()"
   ]
  },
  {
   "cell_type": "code",
   "execution_count": 7,
   "id": "b5bf1cdd",
   "metadata": {},
   "outputs": [],
   "source": [
    "def small_dfs(dataframe, identifier, sampling_time, window):\n",
    "    symbols = ['long', 'lat', 'temp']\n",
    "    dataframe['timestamp'] = pd.to_datetime(dataframe['timestamp'],errors='ignore')\n",
    "    raw = dataframe['individual-local-identifier'] == identifier\n",
    "    as_frame = dataframe[raw]\n",
    "    time = as_frame['timestamp']\n",
    "    fg = {k:v for k,v in zip(time, as_frame['location-long'])}\n",
    "    gdf = {k:v for k,v in zip(time, as_frame['location-lat'])}\n",
    "    temp = {k:v for k,v in zip(time, as_frame['external-temperature'])}\n",
    "        \n",
    "    tsfg = pd.Series(fg, index=time)\n",
    "    tsfg1 = traces.TimeSeries(tsfg)\n",
    "    tsgdf = pd.Series(gdf, index=time)\n",
    "    tsgdf1 = traces.TimeSeries(tsgdf)\n",
    "    tstemp = pd.Series(temp, index=time)\n",
    "    tstemp1 = traces.TimeSeries(tstemp)\n",
    "    \n",
    "    # 3600 = 1 Stunde, 10800 = 3 Stunden\n",
    "    long = tsfg1.moving_average(sampling_period = sampling_time, window_size=32400,\n",
    "                                placement= window,\n",
    "                                pandas = True)\n",
    "    lat = tsgdf1.moving_average(sampling_period = sampling_time,\n",
    "                                placement= window,\n",
    "                                pandas = True)\n",
    "    temps = tstemp1.moving_average(sampling_period = sampling_time,\n",
    "                                   placement= window,\n",
    "                                   pandas = True)\n",
    "    data = pd.concat([long, lat, temps], axis = 1)\n",
    "    data.columns = symbols\n",
    "    data['individual-local-identifier'] = identifier\n",
    "    return data"
   ]
  },
  {
   "cell_type": "code",
   "execution_count": 8,
   "id": "c57189fa",
   "metadata": {},
   "outputs": [],
   "source": [
    "def imputing_data(dataframe, sampling_time, window):\n",
    "    time_series = traces.TimeSeries()\n",
    "    identifiers = np.unique(dataframe['tag-local-identifier'].values)\n",
    "    small_frame = []\n",
    "    for i in identifiers:\n",
    "        specific_frame = small_dfs(dataframe, i, sampling_time, window)\n",
    "        small_frame.append(specific_frame)\n",
    "    data_imputed = pd.concat(small_frame)\n",
    "    return data_imputed"
   ]
  },
  {
   "cell_type": "code",
   "execution_count": null,
   "id": "96c07402",
   "metadata": {},
   "outputs": [],
   "source": [
    "data_18001 = imputing_data(df, 1800, \"center\")\n",
    "data_18001.to_csv('imputed_data18001.csv')"
   ]
  }
 ],
 "metadata": {
  "kernelspec": {
   "display_name": "Python 3 (ipykernel)",
   "language": "python",
   "name": "python3"
  },
  "language_info": {
   "codemirror_mode": {
    "name": "ipython",
    "version": 3
   },
   "file_extension": ".py",
   "mimetype": "text/x-python",
   "name": "python",
   "nbconvert_exporter": "python",
   "pygments_lexer": "ipython3",
   "version": "3.8.11"
  }
 },
 "nbformat": 4,
 "nbformat_minor": 5
}
