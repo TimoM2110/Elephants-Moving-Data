{
 "cells": [
  {
   "cell_type": "code",
   "execution_count": 20,
   "id": "8724b12b",
   "metadata": {},
   "outputs": [],
   "source": [
    "import pandas as pd\n",
    "import numpy as np"
   ]
  },
  {
   "cell_type": "code",
   "execution_count": 61,
   "id": "99d273cf",
   "metadata": {},
   "outputs": [],
   "source": [
    "df = pd.read_csv(r\"C:\\Users\\timom\\anaconda3\\envs\\madeleine_project\\ThermochronTracking Elephants Kruger 2007.csv\")"
   ]
  },
  {
   "cell_type": "code",
   "execution_count": 28,
   "id": "8101fc33",
   "metadata": {},
   "outputs": [
    {
     "data": {
      "text/html": [
       "<div>\n",
       "<style scoped>\n",
       "    .dataframe tbody tr th:only-of-type {\n",
       "        vertical-align: middle;\n",
       "    }\n",
       "\n",
       "    .dataframe tbody tr th {\n",
       "        vertical-align: top;\n",
       "    }\n",
       "\n",
       "    .dataframe thead th {\n",
       "        text-align: right;\n",
       "    }\n",
       "</style>\n",
       "<table border=\"1\" class=\"dataframe\">\n",
       "  <thead>\n",
       "    <tr style=\"text-align: right;\">\n",
       "      <th></th>\n",
       "      <th>event-id</th>\n",
       "      <th>visible</th>\n",
       "      <th>timestamp</th>\n",
       "      <th>location-long</th>\n",
       "      <th>location-lat</th>\n",
       "      <th>external-temperature</th>\n",
       "      <th>sensor-type</th>\n",
       "      <th>individual-taxon-canonical-name</th>\n",
       "      <th>tag-local-identifier</th>\n",
       "      <th>individual-local-identifier</th>\n",
       "      <th>study-name</th>\n",
       "    </tr>\n",
       "  </thead>\n",
       "  <tbody>\n",
       "    <tr>\n",
       "      <th>283683</th>\n",
       "      <td>9421634855</td>\n",
       "      <td>True</td>\n",
       "      <td>2009-08-12 19:30:00.000</td>\n",
       "      <td>31.63939</td>\n",
       "      <td>-24.24486</td>\n",
       "      <td>23.0</td>\n",
       "      <td>gps</td>\n",
       "      <td>Loxodonta africana</td>\n",
       "      <td>AM99</td>\n",
       "      <td>AM99</td>\n",
       "      <td>ThermochronTracking Elephants Kruger 2007</td>\n",
       "    </tr>\n",
       "    <tr>\n",
       "      <th>283684</th>\n",
       "      <td>9421634856</td>\n",
       "      <td>True</td>\n",
       "      <td>2009-08-12 20:00:00.000</td>\n",
       "      <td>31.63845</td>\n",
       "      <td>-24.24861</td>\n",
       "      <td>22.0</td>\n",
       "      <td>gps</td>\n",
       "      <td>Loxodonta africana</td>\n",
       "      <td>AM99</td>\n",
       "      <td>AM99</td>\n",
       "      <td>ThermochronTracking Elephants Kruger 2007</td>\n",
       "    </tr>\n",
       "    <tr>\n",
       "      <th>283685</th>\n",
       "      <td>9421634857</td>\n",
       "      <td>True</td>\n",
       "      <td>2009-08-12 20:30:00.000</td>\n",
       "      <td>31.63877</td>\n",
       "      <td>-24.24964</td>\n",
       "      <td>22.0</td>\n",
       "      <td>gps</td>\n",
       "      <td>Loxodonta africana</td>\n",
       "      <td>AM99</td>\n",
       "      <td>AM99</td>\n",
       "      <td>ThermochronTracking Elephants Kruger 2007</td>\n",
       "    </tr>\n",
       "    <tr>\n",
       "      <th>283686</th>\n",
       "      <td>9421634858</td>\n",
       "      <td>True</td>\n",
       "      <td>2009-08-12 21:00:00.000</td>\n",
       "      <td>31.63941</td>\n",
       "      <td>-24.25083</td>\n",
       "      <td>21.0</td>\n",
       "      <td>gps</td>\n",
       "      <td>Loxodonta africana</td>\n",
       "      <td>AM99</td>\n",
       "      <td>AM99</td>\n",
       "      <td>ThermochronTracking Elephants Kruger 2007</td>\n",
       "    </tr>\n",
       "    <tr>\n",
       "      <th>283687</th>\n",
       "      <td>9421634859</td>\n",
       "      <td>True</td>\n",
       "      <td>2009-08-12 21:30:00.000</td>\n",
       "      <td>31.63960</td>\n",
       "      <td>-24.25192</td>\n",
       "      <td>21.0</td>\n",
       "      <td>gps</td>\n",
       "      <td>Loxodonta africana</td>\n",
       "      <td>AM99</td>\n",
       "      <td>AM99</td>\n",
       "      <td>ThermochronTracking Elephants Kruger 2007</td>\n",
       "    </tr>\n",
       "  </tbody>\n",
       "</table>\n",
       "</div>"
      ],
      "text/plain": [
       "          event-id  visible                timestamp  location-long  \\\n",
       "283683  9421634855     True  2009-08-12 19:30:00.000       31.63939   \n",
       "283684  9421634856     True  2009-08-12 20:00:00.000       31.63845   \n",
       "283685  9421634857     True  2009-08-12 20:30:00.000       31.63877   \n",
       "283686  9421634858     True  2009-08-12 21:00:00.000       31.63941   \n",
       "283687  9421634859     True  2009-08-12 21:30:00.000       31.63960   \n",
       "\n",
       "        location-lat  external-temperature sensor-type  \\\n",
       "283683     -24.24486                  23.0         gps   \n",
       "283684     -24.24861                  22.0         gps   \n",
       "283685     -24.24964                  22.0         gps   \n",
       "283686     -24.25083                  21.0         gps   \n",
       "283687     -24.25192                  21.0         gps   \n",
       "\n",
       "       individual-taxon-canonical-name tag-local-identifier  \\\n",
       "283683              Loxodonta africana                 AM99   \n",
       "283684              Loxodonta africana                 AM99   \n",
       "283685              Loxodonta africana                 AM99   \n",
       "283686              Loxodonta africana                 AM99   \n",
       "283687              Loxodonta africana                 AM99   \n",
       "\n",
       "       individual-local-identifier                                 study-name  \n",
       "283683                        AM99  ThermochronTracking Elephants Kruger 2007  \n",
       "283684                        AM99  ThermochronTracking Elephants Kruger 2007  \n",
       "283685                        AM99  ThermochronTracking Elephants Kruger 2007  \n",
       "283686                        AM99  ThermochronTracking Elephants Kruger 2007  \n",
       "283687                        AM99  ThermochronTracking Elephants Kruger 2007  "
      ]
     },
     "execution_count": 28,
     "metadata": {},
     "output_type": "execute_result"
    }
   ],
   "source": [
    "df.tail()"
   ]
  },
  {
   "cell_type": "code",
   "execution_count": 29,
   "id": "e9df452c",
   "metadata": {},
   "outputs": [],
   "source": [
    "tags = [\n",
    "    'AM105',\n",
    "    'AM107',\n",
    "    'AM108',\n",
    "    'AM110',\n",
    "    'AM239',\n",
    "    'AM253',\n",
    "    'AM254',\n",
    "    'AM255',\n",
    "    'AM306',\n",
    "    'AM307',\n",
    "    'AM308',\n",
    "    'AM91',\n",
    "    'AM93',\n",
    "    'AM99',\n",
    "]"
   ]
  },
  {
   "cell_type": "code",
   "execution_count": 62,
   "id": "cdfb871e",
   "metadata": {},
   "outputs": [],
   "source": [
    "df['timestamp'] = pd.to_datetime(df['timestamp'],errors='ignore')"
   ]
  },
  {
   "cell_type": "code",
   "execution_count": 63,
   "id": "f548cc3d",
   "metadata": {},
   "outputs": [],
   "source": [
    "df = df.set_index('timestamp')"
   ]
  },
  {
   "cell_type": "code",
   "execution_count": 25,
   "id": "37f4e932",
   "metadata": {},
   "outputs": [],
   "source": [
    "for i in tags:\n",
    "    sf = df.loc[df['tag-local-identifier'] == i]\n",
    "    resample_index = pd.date_range(start=sf.index[0], end=sf.index[-1], freq='30min')\n",
    "    dummy_frame = pd.DataFrame(np.NaN, index=resample_index, columns=sf.columns)\n",
    "    ds = sf.combine_first(dummy_frame).interpolate('time').resample('30min').asfreq()\n",
    "    ds['sensor-type']='gps'\n",
    "    ds['individual-taxon-canonical-name']='Loxodonta africana'\n",
    "    ds['tag-local-identifier']=i\n",
    "    ds['individual-local-identifier']=i\n",
    "    ds['study-name']='ThermochronTracking Elephants Kruger 2007'\n",
    "    ds['visible']='True'\n",
    "    ds.to_csv(i +'.csv')"
   ]
  },
  {
   "cell_type": "code",
   "execution_count": 47,
   "id": "622ceec3",
   "metadata": {},
   "outputs": [],
   "source": [
    "sf = df.loc[df['tag-local-identifier'] == tags[0]]\n",
    "resample_index = pd.date_range(start=sf.index[0], end=sf.index[-1], freq='30min')\n",
    "dummy_frame = pd.DataFrame(np.NaN, index=resample_index, columns=sf.columns)\n",
    "ds = sf.combine_first(dummy_frame).interpolate('time').resample('30min').asfreq()\n",
    "ds['sensor-type']='gps'\n",
    "ds['individual-taxon-canonical-name']='Loxodonta africana'\n",
    "ds['tag-local-identifier']=tags[0]\n",
    "ds['individual-local-identifier']=tags[0]\n",
    "ds['study-name']='ThermochronTracking Elephants Kruger 2007'\n",
    "ds['visible']='True'\n",
    "ds.to_csv(tags[0] +'.csv')"
   ]
  },
  {
   "cell_type": "code",
   "execution_count": 48,
   "id": "3a55f41d",
   "metadata": {},
   "outputs": [],
   "source": [
    "sf = df.loc[df['tag-local-identifier'] == tags[1]]\n",
    "resample_index = pd.date_range(start=sf.index[0], end=sf.index[-1], freq='30min')\n",
    "dummy_frame = pd.DataFrame(np.NaN, index=resample_index, columns=sf.columns)\n",
    "ds = sf.combine_first(dummy_frame).interpolate('time').resample('30min').asfreq()\n",
    "ds['sensor-type']='gps'\n",
    "ds['individual-taxon-canonical-name']='Loxodonta africana'\n",
    "ds['tag-local-identifier']=tags[1]\n",
    "ds['individual-local-identifier']=tags[1]\n",
    "ds['study-name']='ThermochronTracking Elephants Kruger 2007'\n",
    "ds['visible']='True'\n",
    "ds.to_csv(tags[1] +'.csv')"
   ]
  },
  {
   "cell_type": "code",
   "execution_count": 49,
   "id": "fc5148f2",
   "metadata": {},
   "outputs": [],
   "source": [
    "sf = df.loc[df['tag-local-identifier'] == tags[2]]\n",
    "resample_index = pd.date_range(start=sf.index[0], end=sf.index[-1], freq='30min')\n",
    "dummy_frame = pd.DataFrame(np.NaN, index=resample_index, columns=sf.columns)\n",
    "ds = sf.combine_first(dummy_frame).interpolate('time').resample('30min').asfreq()\n",
    "ds['sensor-type']='gps'\n",
    "ds['individual-taxon-canonical-name']='Loxodonta africana'\n",
    "ds['tag-local-identifier']=tags[2]\n",
    "ds['individual-local-identifier']=tags[2]\n",
    "ds['study-name']='ThermochronTracking Elephants Kruger 2007'\n",
    "ds['visible']='True'\n",
    "ds.to_csv(tags[2] +'.csv')"
   ]
  },
  {
   "cell_type": "code",
   "execution_count": 50,
   "id": "87e5df42",
   "metadata": {},
   "outputs": [],
   "source": [
    "sf = df.loc[df['tag-local-identifier'] == tags[3]]\n",
    "resample_index = pd.date_range(start=sf.index[0], end=sf.index[-1], freq='30min')\n",
    "dummy_frame = pd.DataFrame(np.NaN, index=resample_index, columns=sf.columns)\n",
    "ds = sf.combine_first(dummy_frame).interpolate('time').resample('30min').asfreq()\n",
    "ds['sensor-type']='gps'\n",
    "ds['individual-taxon-canonical-name']='Loxodonta africana'\n",
    "ds['tag-local-identifier']=tags[3]\n",
    "ds['individual-local-identifier']=tags[3]\n",
    "ds['study-name']='ThermochronTracking Elephants Kruger 2007'\n",
    "ds['visible']='True'\n",
    "ds.to_csv(tags[3] +'.csv')"
   ]
  },
  {
   "cell_type": "code",
   "execution_count": 51,
   "id": "d77b0d9c",
   "metadata": {},
   "outputs": [],
   "source": [
    "sf = df.loc[df['tag-local-identifier'] == tags[4]]\n",
    "resample_index = pd.date_range(start=sf.index[0], end=sf.index[-1], freq='30min')\n",
    "dummy_frame = pd.DataFrame(np.NaN, index=resample_index, columns=sf.columns)\n",
    "ds = sf.combine_first(dummy_frame).interpolate('time').resample('30min').asfreq()\n",
    "ds['sensor-type']='gps'\n",
    "ds['individual-taxon-canonical-name']='Loxodonta africana'\n",
    "ds['tag-local-identifier']=tags[4]\n",
    "ds['individual-local-identifier']=tags[4]\n",
    "ds['study-name']='ThermochronTracking Elephants Kruger 2007'\n",
    "ds['visible']='True'\n",
    "ds.to_csv(tags[4] +'.csv')"
   ]
  },
  {
   "cell_type": "code",
   "execution_count": 52,
   "id": "6f45b99c",
   "metadata": {},
   "outputs": [],
   "source": [
    "sf = df.loc[df['tag-local-identifier'] == tags[5]]\n",
    "resample_index = pd.date_range(start=sf.index[0], end=sf.index[-1], freq='30min')\n",
    "dummy_frame = pd.DataFrame(np.NaN, index=resample_index, columns=sf.columns)\n",
    "ds = sf.combine_first(dummy_frame).interpolate('time').resample('30min').asfreq()\n",
    "ds['sensor-type']='gps'\n",
    "ds['individual-taxon-canonical-name']='Loxodonta africana'\n",
    "ds['tag-local-identifier']=tags[5]\n",
    "ds['individual-local-identifier']=tags[5]\n",
    "ds['study-name']='ThermochronTracking Elephants Kruger 2007'\n",
    "ds['visible']='True'\n",
    "ds.to_csv(tags[5] +'.csv')"
   ]
  },
  {
   "cell_type": "code",
   "execution_count": 53,
   "id": "a382d30c",
   "metadata": {},
   "outputs": [],
   "source": [
    "sf = df.loc[df['tag-local-identifier'] == tags[6]]\n",
    "resample_index = pd.date_range(start=sf.index[0], end=sf.index[-1], freq='30min')\n",
    "dummy_frame = pd.DataFrame(np.NaN, index=resample_index, columns=sf.columns)\n",
    "ds = sf.combine_first(dummy_frame).interpolate('time').resample('30min').asfreq()\n",
    "ds['sensor-type']='gps'\n",
    "ds['individual-taxon-canonical-name']='Loxodonta africana'\n",
    "ds['tag-local-identifier']=tags[6]\n",
    "ds['individual-local-identifier']=tags[6]\n",
    "ds['study-name']='ThermochronTracking Elephants Kruger 2007'\n",
    "ds['visible']='True'\n",
    "ds.to_csv(tags[6] +'.csv')"
   ]
  },
  {
   "cell_type": "code",
   "execution_count": 54,
   "id": "09563c8f",
   "metadata": {},
   "outputs": [],
   "source": [
    "sf = df.loc[df['tag-local-identifier'] == tags[7]]\n",
    "resample_index = pd.date_range(start=sf.index[0], end=sf.index[-1], freq='30min')\n",
    "dummy_frame = pd.DataFrame(np.NaN, index=resample_index, columns=sf.columns)\n",
    "ds = sf.combine_first(dummy_frame).interpolate('time').resample('30min').asfreq()\n",
    "ds['sensor-type']='gps'\n",
    "ds['individual-taxon-canonical-name']='Loxodonta africana'\n",
    "ds['tag-local-identifier']=tags[7]\n",
    "ds['individual-local-identifier']=tags[7]\n",
    "ds['study-name']='ThermochronTracking Elephants Kruger 2007'\n",
    "ds['visible']='True'\n",
    "ds.to_csv(tags[7] +'.csv')"
   ]
  },
  {
   "cell_type": "code",
   "execution_count": 55,
   "id": "ea0dff3d",
   "metadata": {},
   "outputs": [],
   "source": [
    "sf = df.loc[df['tag-local-identifier'] == tags[8]]\n",
    "resample_index = pd.date_range(start=sf.index[0], end=sf.index[-1], freq='30min')\n",
    "dummy_frame = pd.DataFrame(np.NaN, index=resample_index, columns=sf.columns)\n",
    "ds = sf.combine_first(dummy_frame).interpolate('time').resample('30min').asfreq()\n",
    "ds['sensor-type']='gps'\n",
    "ds['individual-taxon-canonical-name']='Loxodonta africana'\n",
    "ds['tag-local-identifier']=tags[8]\n",
    "ds['individual-local-identifier']=tags[8]\n",
    "ds['study-name']='ThermochronTracking Elephants Kruger 2007'\n",
    "ds['visible']='True'\n",
    "ds.to_csv(tags[8] +'.csv')"
   ]
  },
  {
   "cell_type": "code",
   "execution_count": 56,
   "id": "0e1845ce",
   "metadata": {},
   "outputs": [],
   "source": [
    "sf = df.loc[df['tag-local-identifier'] == tags[9]]\n",
    "resample_index = pd.date_range(start=sf.index[0], end=sf.index[-1], freq='30min')\n",
    "dummy_frame = pd.DataFrame(np.NaN, index=resample_index, columns=sf.columns)\n",
    "ds = sf.combine_first(dummy_frame).interpolate('time').resample('30min').asfreq()\n",
    "ds['sensor-type']='gps'\n",
    "ds['individual-taxon-canonical-name']='Loxodonta africana'\n",
    "ds['tag-local-identifier']=tags[9]\n",
    "ds['individual-local-identifier']=tags[9]\n",
    "ds['study-name']='ThermochronTracking Elephants Kruger 2007'\n",
    "ds['visible']='True'\n",
    "ds.to_csv(tags[9] +'.csv')"
   ]
  },
  {
   "cell_type": "code",
   "execution_count": 57,
   "id": "1228f914",
   "metadata": {},
   "outputs": [],
   "source": [
    "sf = df.loc[df['tag-local-identifier'] == tags[10]]\n",
    "resample_index = pd.date_range(start=sf.index[0], end=sf.index[-1], freq='30min')\n",
    "dummy_frame = pd.DataFrame(np.NaN, index=resample_index, columns=sf.columns)\n",
    "ds = sf.combine_first(dummy_frame).interpolate('time').resample('30min').asfreq()\n",
    "ds['sensor-type']='gps'\n",
    "ds['individual-taxon-canonical-name']='Loxodonta africana'\n",
    "ds['tag-local-identifier']=tags[10]\n",
    "ds['individual-local-identifier']=tags[10]\n",
    "ds['study-name']='ThermochronTracking Elephants Kruger 2007'\n",
    "ds['visible']='True'\n",
    "ds.to_csv(tags[10] +'.csv')"
   ]
  },
  {
   "cell_type": "code",
   "execution_count": 64,
   "id": "78885346",
   "metadata": {},
   "outputs": [],
   "source": [
    "sf = df.loc[df['tag-local-identifier'] == tags[11]]\n",
    "resample_index = pd.date_range(start=sf.index[0], end=sf.index[-1], freq='30min')\n",
    "dummy_frame = pd.DataFrame(np.NaN, index=resample_index, columns=sf.columns)\n",
    "ds = sf.combine_first(dummy_frame).interpolate('time').resample('30min').asfreq()\n",
    "ds['sensor-type']='gps'\n",
    "ds['individual-taxon-canonical-name']='Loxodonta africana'\n",
    "ds['tag-local-identifier']=tags[11]\n",
    "ds['individual-local-identifier']=tags[11]\n",
    "ds['study-name']='ThermochronTracking Elephants Kruger 2007'\n",
    "ds['visible']='True'\n",
    "ds.to_csv(tags[11] +'.csv')"
   ]
  },
  {
   "cell_type": "code",
   "execution_count": 59,
   "id": "29f522f9",
   "metadata": {},
   "outputs": [],
   "source": [
    "sf = df.loc[df['tag-local-identifier'] == tags[12]]\n",
    "resample_index = pd.date_range(start=sf.index[0], end=sf.index[-1], freq='30min')\n",
    "dummy_frame = pd.DataFrame(np.NaN, index=resample_index, columns=sf.columns)\n",
    "ds = sf.combine_first(dummy_frame).interpolate('time').resample('30min').asfreq()\n",
    "ds['sensor-type']='gps'\n",
    "ds['individual-taxon-canonical-name']='Loxodonta africana'\n",
    "ds['tag-local-identifier']=tags[12]\n",
    "ds['individual-local-identifier']=tags[12]\n",
    "ds['study-name']='ThermochronTracking Elephants Kruger 2007'\n",
    "ds['visible']='True'\n",
    "ds.to_csv(tags[12] +'.csv')"
   ]
  },
  {
   "cell_type": "code",
   "execution_count": 60,
   "id": "4182f135",
   "metadata": {},
   "outputs": [],
   "source": [
    "sf = df.loc[df['tag-local-identifier'] == tags[13]]\n",
    "resample_index = pd.date_range(start=sf.index[0], end=sf.index[-1], freq='30min')\n",
    "dummy_frame = pd.DataFrame(np.NaN, index=resample_index, columns=sf.columns)\n",
    "ds = sf.combine_first(dummy_frame).interpolate('time').resample('30min').asfreq()\n",
    "ds['sensor-type']='gps'\n",
    "ds['individual-taxon-canonical-name']='Loxodonta africana'\n",
    "ds['tag-local-identifier']=tags[13]\n",
    "ds['individual-local-identifier']=tags[13]\n",
    "ds['study-name']='ThermochronTracking Elephants Kruger 2007'\n",
    "ds['visible']='True'\n",
    "ds.to_csv(tags[13] +'.csv')"
   ]
  },
  {
   "cell_type": "code",
   "execution_count": 65,
   "id": "c48a4f00",
   "metadata": {},
   "outputs": [
    {
     "data": {
      "text/plain": [
       "'AM91'"
      ]
     },
     "execution_count": 65,
     "metadata": {},
     "output_type": "execute_result"
    }
   ],
   "source": [
    "tags[11]"
   ]
  },
  {
   "cell_type": "code",
   "execution_count": 89,
   "id": "9bdcc0b8",
   "metadata": {},
   "outputs": [],
   "source": [
    "df105 = pd.read_csv(r\"C:\\Users\\timom\\AM105.csv\")\n",
    "df107 = pd.read_csv(r\"C:\\Users\\timom\\AM107.csv\")\n",
    "df108 = pd.read_csv(r\"C:\\Users\\timom\\AM108.csv\")\n",
    "df110 = pd.read_csv(r\"C:\\Users\\timom\\AM110.csv\")\n",
    "df239 = pd.read_csv(r\"C:\\Users\\timom\\AM239.csv\")\n",
    "df253 = pd.read_csv(r\"C:\\Users\\timom\\AM253.csv\")\n",
    "df254 = pd.read_csv(r\"C:\\Users\\timom\\AM254.csv\")\n",
    "df255 = pd.read_csv(r\"C:\\Users\\timom\\AM255.csv\")\n",
    "df307 = pd.read_csv(r\"C:\\Users\\timom\\AM307.csv\")\n",
    "df308 = pd.read_csv(r\"C:\\Users\\timom\\AM308.csv\")\n",
    "df93 = pd.read_csv(r\"C:\\Users\\timom\\AM93.csv\")\n",
    "df99 = pd.read_csv(r\"C:\\Users\\timom\\AM99.csv\")"
   ]
  },
  {
   "cell_type": "code",
   "execution_count": 88,
   "id": "434652dc",
   "metadata": {
    "scrolled": true
   },
   "outputs": [],
   "source": [
    "listing = [\n",
    "    df105,\n",
    "    df107,\n",
    "    df108,\n",
    "    df110,\n",
    "    df239,\n",
    "    df253,\n",
    "    df254,\n",
    "    df255,\n",
    "    df307,\n",
    "    df308,\n",
    "    df93,\n",
    "    df99\n",
    "]\n"
   ]
  },
  {
   "cell_type": "code",
   "execution_count": 90,
   "id": "5b0e9a24",
   "metadata": {},
   "outputs": [],
   "source": [
    "df_full = pd.concat(listing)"
   ]
  },
  {
   "cell_type": "code",
   "execution_count": 91,
   "id": "de04b195",
   "metadata": {},
   "outputs": [],
   "source": [
    "df_full.to_csv('imputed_dataframe30min.csv')"
   ]
  },
  {
   "cell_type": "code",
   "execution_count": 92,
   "id": "14cbf11c",
   "metadata": {},
   "outputs": [
    {
     "data": {
      "text/html": [
       "<div>\n",
       "<style scoped>\n",
       "    .dataframe tbody tr th:only-of-type {\n",
       "        vertical-align: middle;\n",
       "    }\n",
       "\n",
       "    .dataframe tbody tr th {\n",
       "        vertical-align: top;\n",
       "    }\n",
       "\n",
       "    .dataframe thead th {\n",
       "        text-align: right;\n",
       "    }\n",
       "</style>\n",
       "<table border=\"1\" class=\"dataframe\">\n",
       "  <thead>\n",
       "    <tr style=\"text-align: right;\">\n",
       "      <th></th>\n",
       "      <th>event-id</th>\n",
       "      <th>location-long</th>\n",
       "      <th>location-lat</th>\n",
       "      <th>external-temperature</th>\n",
       "    </tr>\n",
       "  </thead>\n",
       "  <tbody>\n",
       "    <tr>\n",
       "      <th>count</th>\n",
       "      <td>3.673680e+05</td>\n",
       "      <td>367368.000000</td>\n",
       "      <td>367368.000000</td>\n",
       "      <td>367368.000000</td>\n",
       "    </tr>\n",
       "    <tr>\n",
       "      <th>mean</th>\n",
       "      <td>9.421470e+09</td>\n",
       "      <td>31.651153</td>\n",
       "      <td>-24.605503</td>\n",
       "      <td>27.710776</td>\n",
       "    </tr>\n",
       "    <tr>\n",
       "      <th>std</th>\n",
       "      <td>8.633658e+04</td>\n",
       "      <td>0.160474</td>\n",
       "      <td>0.263918</td>\n",
       "      <td>6.078912</td>\n",
       "    </tr>\n",
       "    <tr>\n",
       "      <th>min</th>\n",
       "      <td>9.421351e+09</td>\n",
       "      <td>31.062690</td>\n",
       "      <td>-25.376760</td>\n",
       "      <td>6.000000</td>\n",
       "    </tr>\n",
       "    <tr>\n",
       "      <th>25%</th>\n",
       "      <td>9.421390e+09</td>\n",
       "      <td>31.508460</td>\n",
       "      <td>-24.814490</td>\n",
       "      <td>23.250000</td>\n",
       "    </tr>\n",
       "    <tr>\n",
       "      <th>50%</th>\n",
       "      <td>9.421457e+09</td>\n",
       "      <td>31.672190</td>\n",
       "      <td>-24.559281</td>\n",
       "      <td>27.000000</td>\n",
       "    </tr>\n",
       "    <tr>\n",
       "      <th>75%</th>\n",
       "      <td>9.421539e+09</td>\n",
       "      <td>31.773327</td>\n",
       "      <td>-24.399335</td>\n",
       "      <td>33.000000</td>\n",
       "    </tr>\n",
       "    <tr>\n",
       "      <th>max</th>\n",
       "      <td>9.421635e+09</td>\n",
       "      <td>32.004330</td>\n",
       "      <td>-24.068760</td>\n",
       "      <td>47.000000</td>\n",
       "    </tr>\n",
       "  </tbody>\n",
       "</table>\n",
       "</div>"
      ],
      "text/plain": [
       "           event-id  location-long   location-lat  external-temperature\n",
       "count  3.673680e+05  367368.000000  367368.000000         367368.000000\n",
       "mean   9.421470e+09      31.651153     -24.605503             27.710776\n",
       "std    8.633658e+04       0.160474       0.263918              6.078912\n",
       "min    9.421351e+09      31.062690     -25.376760              6.000000\n",
       "25%    9.421390e+09      31.508460     -24.814490             23.250000\n",
       "50%    9.421457e+09      31.672190     -24.559281             27.000000\n",
       "75%    9.421539e+09      31.773327     -24.399335             33.000000\n",
       "max    9.421635e+09      32.004330     -24.068760             47.000000"
      ]
     },
     "execution_count": 92,
     "metadata": {},
     "output_type": "execute_result"
    }
   ],
   "source": [
    "df_full.describe()"
   ]
  }
 ],
 "metadata": {
  "kernelspec": {
   "display_name": "Python 3 (ipykernel)",
   "language": "python",
   "name": "python3"
  },
  "language_info": {
   "codemirror_mode": {
    "name": "ipython",
    "version": 3
   },
   "file_extension": ".py",
   "mimetype": "text/x-python",
   "name": "python",
   "nbconvert_exporter": "python",
   "pygments_lexer": "ipython3",
   "version": "3.8.11"
  }
 },
 "nbformat": 4,
 "nbformat_minor": 5
}
